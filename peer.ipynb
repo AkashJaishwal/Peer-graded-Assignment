<h1><strong>Assignment Topic</strong>:</h1>

<h3>Guidelines for the submission:</h3> <br>
<h4>There are a total of 25 points possible for this final project.</h4>

<h5>I hope I will succeed, based on the following Exercises:</h5>

<ol>

<li>Exercise 2 - Create a markdown cell with the title of the notebook. (1 pt)</li>

<li>Exercise 3 - Create a markdown cell for an introduction. (1 pt)</li>

<li>Exercise 4 - Create a markdown cell to list data science languages. (3 pts)</li>

<li>Exercise 5 - Create a markdown cell to list data science libraries. (3 pts)</li>

<li>Exercise 6 - Create a markdown cell with a table of Data Science tools. (3 pts)</li>

<li>Exercise 7 - Create a markdown cell introducing arithmetic expression examples. (1 pt)</li>

<li>Exercise 8 - Create a code cell to multiply and add numbers.(2 pts)</li>

<li>Exercise 9 - Create a code cell to convert minutes to hours. (2 pts)</li>

<li>Exercise 10 -Insert a markdown cell to list Objectives. (3 pts)</li>

<li>Exercise 11 - Create a markdown cell to indicate the Author’s name. (2 pts)</li>

<li>Exercise 12 - Share your notebook through GitHub (3 pts)</li>

<li>Exercise 13 - Take a screenshot of the first page of the notebook. (1 pt)</li>
    
</ol>
